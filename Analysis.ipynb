{
 "cells": [
  {
   "cell_type": "code",
   "execution_count": 3,
   "id": "25608695",
   "metadata": {},
   "outputs": [
    {
     "name": "stdout",
     "output_type": "stream",
     "text": [
      "Metal device set to: Apple M1 Pro\n"
     ]
    },
    {
     "name": "stderr",
     "output_type": "stream",
     "text": [
      "2023-03-13 17:33:37.602674: I tensorflow/core/common_runtime/pluggable_device/pluggable_device_factory.cc:305] Could not identify NUMA node of platform GPU ID 0, defaulting to 0. Your kernel may not have been built with NUMA support.\n",
      "2023-03-13 17:33:37.602818: I tensorflow/core/common_runtime/pluggable_device/pluggable_device_factory.cc:271] Created TensorFlow device (/job:localhost/replica:0/task:0/device:GPU:0 with 0 MB memory) -> physical PluggableDevice (device: 0, name: METAL, pci bus id: <undefined>)\n"
     ]
    }
   ],
   "source": [
    "from tensorflow import keras\n",
    "model = keras.models.load_model('myModel.model')"
   ]
  },
  {
   "cell_type": "code",
   "execution_count": 6,
   "id": "871d2bc3",
   "metadata": {
    "scrolled": true
   },
   "outputs": [
    {
     "name": "stderr",
     "output_type": "stream",
     "text": [
      "2023-03-13 17:34:22.887957: W tensorflow/core/platform/profile_utils/cpu_utils.cc:128] Failed to get CPU frequency: 0 Hz\n",
      "2023-03-13 17:34:22.937769: I tensorflow/core/grappler/optimizers/custom_graph_optimizer_registry.cc:113] Plugin optimizer for device_type GPU is enabled.\n"
     ]
    },
    {
     "name": "stdout",
     "output_type": "stream",
     "text": [
      "1/1 [==============================] - 1s 575ms/step\n",
      "[[0.]]\n"
     ]
    }
   ],
   "source": [
    "y_pred = model.predict([[-0.19262583  ,1.31810485 , 0.11559813  ,1.23178506 , 0.16033029 ,-0.99546441\n",
    " ,-0.0247434  , 0.74153235 ,-0.78456689 , 0.08252405 , 0.44684444  ,0.43587204]])\n",
    "y_pred[y_pred <= 0.5] = 0\n",
    "y_pred[y_pred > 0.5] = 1\n",
    "print(y_pred)"
   ]
  },
  {
   "cell_type": "code",
   "execution_count": 7,
   "id": "a04f9cc0",
   "metadata": {},
   "outputs": [],
   "source": [
    "#importing all the required libraries\n",
    "import streamlit as st\n",
    "import time\n",
    "import plotly.graph_objects as go\n",
    "import pandas as pd\n",
    "import numpy as np\n",
    "import random as rd"
   ]
  },
  {
   "cell_type": "code",
   "execution_count": 26,
   "id": "0bf64892",
   "metadata": {},
   "outputs": [
    {
     "name": "stdout",
     "output_type": "stream",
     "text": [
      "   Value  Time\n",
      "0    5.0   0.0\n",
      "Empty DataFrame\n",
      "Columns: [Value, Time]\n",
      "Index: []\n",
      "   Value  Time\n",
      "0    6.0   1.0\n",
      "Empty DataFrame\n",
      "Columns: [Value, Time]\n",
      "Index: []\n",
      "   Value  Time\n",
      "0    1.0   2.0\n",
      "Empty DataFrame\n",
      "Columns: [Value, Time]\n",
      "Index: []\n",
      "   Value  Time\n",
      "0    8.0   3.0\n",
      "Empty DataFrame\n",
      "Columns: [Value, Time]\n",
      "Index: []\n",
      "   Value  Time\n",
      "0    3.0   4.0\n",
      "Empty DataFrame\n",
      "Columns: [Value, Time]\n",
      "Index: []\n",
      "   Value  Time\n",
      "0    3.0   5.0\n",
      "Empty DataFrame\n",
      "Columns: [Value, Time]\n",
      "Index: []\n",
      "   Value  Time\n",
      "0    1.0   6.0\n",
      "Empty DataFrame\n",
      "Columns: [Value, Time]\n",
      "Index: []\n",
      "   Value  Time\n",
      "0    1.0   7.0\n",
      "Empty DataFrame\n",
      "Columns: [Value, Time]\n",
      "Index: []\n",
      "   Value  Time\n",
      "0    5.0   8.0\n",
      "Empty DataFrame\n",
      "Columns: [Value, Time]\n",
      "Index: []\n",
      "   Value  Time\n",
      "0    1.0   9.0\n",
      "Empty DataFrame\n",
      "Columns: [Value, Time]\n",
      "Index: []\n"
     ]
    }
   ],
   "source": [
    "dummy1 = pd.DataFrame()\n",
    "dummy2 = pd.DataFrame()\n",
    "\n",
    "dummy1['Value'] = []\n",
    "dummy2['Value'] = []\n",
    "\n",
    "dummy1['Time'] = []\n",
    "dummy2['Time'] = []\n",
    "\n",
    "def make_chart(df1, df2):\n",
    "    fig = go.Figure()\n",
    "    fig.add_trace(go.Scatter(x=df1['Time'], y=df2['Value'],   mode='lines+markers'))\n",
    "    \n",
    "    fig.update_layout(width=900, height=570, xaxis_title='time',\n",
    "    yaxis_title='Value')\n",
    "\n",
    "    fig.add_trace(go.Scatter(x=df2['time'], y=df2['Value'],   mode='lines+markers'))\n",
    "    \n",
    "    fig.update_layout(width=900, height=570, xaxis_title='time',\n",
    "    yaxis_title='Value')\n",
    "    st.write(fig)\n",
    "\n",
    "\n",
    "counter = 0\n",
    "for i in range(10):\n",
    "    d1_add = pd.DataFrame({'Time' : [i for i in range(100)] , \"Value\" :  [rd.randint(1,10) for i in range(100)]})\n",
    "    dummy1 = pd.concat([dummy1 , d1_add] , axis = 0)\n",
    "\n",
    "    d2_add = pd.DataFrame({'Time' : [counter] , \"Value\" :  [rd.randint(1,10)]})\n",
    "    dummy1 = pd.concat([dummy2 , d2_add] , axis = 0)\n",
    "\n",
    "    print(dummy1)\n",
    "    print(dummy2)\n",
    "    \n",
    "    counter = counter + 1"
   ]
  },
  {
   "cell_type": "code",
   "execution_count": 11,
   "id": "ac3167d2",
   "metadata": {
    "scrolled": true
   },
   "outputs": [
    {
     "data": {
      "text/html": [
       "<div>\n",
       "<style scoped>\n",
       "    .dataframe tbody tr th:only-of-type {\n",
       "        vertical-align: middle;\n",
       "    }\n",
       "\n",
       "    .dataframe tbody tr th {\n",
       "        vertical-align: top;\n",
       "    }\n",
       "\n",
       "    .dataframe thead th {\n",
       "        text-align: right;\n",
       "    }\n",
       "</style>\n",
       "<table border=\"1\" class=\"dataframe\">\n",
       "  <thead>\n",
       "    <tr style=\"text-align: right;\">\n",
       "      <th></th>\n",
       "      <th>Value</th>\n",
       "      <th>Time</th>\n",
       "    </tr>\n",
       "  </thead>\n",
       "  <tbody>\n",
       "  </tbody>\n",
       "</table>\n",
       "</div>"
      ],
      "text/plain": [
       "Empty DataFrame\n",
       "Columns: [Value, Time]\n",
       "Index: []"
      ]
     },
     "execution_count": 11,
     "metadata": {},
     "output_type": "execute_result"
    }
   ],
   "source": [
    "dummy1"
   ]
  },
  {
   "cell_type": "code",
   "execution_count": 19,
   "id": "8c37a741",
   "metadata": {
    "scrolled": true
   },
   "outputs": [],
   "source": [
    "add = pd.DataFrame({'Time' : [1] , \"Value\" :  [10]})"
   ]
  },
  {
   "cell_type": "code",
   "execution_count": 20,
   "id": "b9d6e276",
   "metadata": {
    "scrolled": true
   },
   "outputs": [
    {
     "data": {
      "text/html": [
       "<div>\n",
       "<style scoped>\n",
       "    .dataframe tbody tr th:only-of-type {\n",
       "        vertical-align: middle;\n",
       "    }\n",
       "\n",
       "    .dataframe tbody tr th {\n",
       "        vertical-align: top;\n",
       "    }\n",
       "\n",
       "    .dataframe thead th {\n",
       "        text-align: right;\n",
       "    }\n",
       "</style>\n",
       "<table border=\"1\" class=\"dataframe\">\n",
       "  <thead>\n",
       "    <tr style=\"text-align: right;\">\n",
       "      <th></th>\n",
       "      <th>Value</th>\n",
       "      <th>Time</th>\n",
       "    </tr>\n",
       "  </thead>\n",
       "  <tbody>\n",
       "    <tr>\n",
       "      <th>0</th>\n",
       "      <td>10.0</td>\n",
       "      <td>1.0</td>\n",
       "    </tr>\n",
       "  </tbody>\n",
       "</table>\n",
       "</div>"
      ],
      "text/plain": [
       "   Value  Time\n",
       "0   10.0   1.0"
      ]
     },
     "execution_count": 20,
     "metadata": {},
     "output_type": "execute_result"
    }
   ],
   "source": [
    "add = pd.DataFrame({'Time' : [1] , \"Value\" :  [10]})\n",
    "dummy1 = pd.concat([dummy1 , add] , axis = 0)\n",
    "dummy1"
   ]
  },
  {
   "cell_type": "code",
   "execution_count": 27,
   "id": "f63da20e",
   "metadata": {},
   "outputs": [],
   "source": [
    "d1_add = pd.DataFrame({'Time' : [i for i in range(100)] , \"Value\" :  [rd.randint(1,10) for i in range(100)]})"
   ]
  },
  {
   "cell_type": "code",
   "execution_count": 28,
   "id": "2cb4b12f",
   "metadata": {},
   "outputs": [
    {
     "data": {
      "text/html": [
       "<div>\n",
       "<style scoped>\n",
       "    .dataframe tbody tr th:only-of-type {\n",
       "        vertical-align: middle;\n",
       "    }\n",
       "\n",
       "    .dataframe tbody tr th {\n",
       "        vertical-align: top;\n",
       "    }\n",
       "\n",
       "    .dataframe thead th {\n",
       "        text-align: right;\n",
       "    }\n",
       "</style>\n",
       "<table border=\"1\" class=\"dataframe\">\n",
       "  <thead>\n",
       "    <tr style=\"text-align: right;\">\n",
       "      <th></th>\n",
       "      <th>Time</th>\n",
       "      <th>Value</th>\n",
       "    </tr>\n",
       "  </thead>\n",
       "  <tbody>\n",
       "    <tr>\n",
       "      <th>0</th>\n",
       "      <td>0</td>\n",
       "      <td>10</td>\n",
       "    </tr>\n",
       "    <tr>\n",
       "      <th>1</th>\n",
       "      <td>1</td>\n",
       "      <td>6</td>\n",
       "    </tr>\n",
       "    <tr>\n",
       "      <th>2</th>\n",
       "      <td>2</td>\n",
       "      <td>5</td>\n",
       "    </tr>\n",
       "    <tr>\n",
       "      <th>3</th>\n",
       "      <td>3</td>\n",
       "      <td>9</td>\n",
       "    </tr>\n",
       "    <tr>\n",
       "      <th>4</th>\n",
       "      <td>4</td>\n",
       "      <td>8</td>\n",
       "    </tr>\n",
       "    <tr>\n",
       "      <th>...</th>\n",
       "      <td>...</td>\n",
       "      <td>...</td>\n",
       "    </tr>\n",
       "    <tr>\n",
       "      <th>95</th>\n",
       "      <td>95</td>\n",
       "      <td>10</td>\n",
       "    </tr>\n",
       "    <tr>\n",
       "      <th>96</th>\n",
       "      <td>96</td>\n",
       "      <td>2</td>\n",
       "    </tr>\n",
       "    <tr>\n",
       "      <th>97</th>\n",
       "      <td>97</td>\n",
       "      <td>1</td>\n",
       "    </tr>\n",
       "    <tr>\n",
       "      <th>98</th>\n",
       "      <td>98</td>\n",
       "      <td>3</td>\n",
       "    </tr>\n",
       "    <tr>\n",
       "      <th>99</th>\n",
       "      <td>99</td>\n",
       "      <td>3</td>\n",
       "    </tr>\n",
       "  </tbody>\n",
       "</table>\n",
       "<p>100 rows × 2 columns</p>\n",
       "</div>"
      ],
      "text/plain": [
       "    Time  Value\n",
       "0      0     10\n",
       "1      1      6\n",
       "2      2      5\n",
       "3      3      9\n",
       "4      4      8\n",
       "..   ...    ...\n",
       "95    95     10\n",
       "96    96      2\n",
       "97    97      1\n",
       "98    98      3\n",
       "99    99      3\n",
       "\n",
       "[100 rows x 2 columns]"
      ]
     },
     "execution_count": 28,
     "metadata": {},
     "output_type": "execute_result"
    }
   ],
   "source": [
    "d1_add"
   ]
  },
  {
   "cell_type": "code",
   "execution_count": 29,
   "id": "e52e73f4",
   "metadata": {},
   "outputs": [
    {
     "data": {
      "text/html": [
       "<div>\n",
       "<style scoped>\n",
       "    .dataframe tbody tr th:only-of-type {\n",
       "        vertical-align: middle;\n",
       "    }\n",
       "\n",
       "    .dataframe tbody tr th {\n",
       "        vertical-align: top;\n",
       "    }\n",
       "\n",
       "    .dataframe thead th {\n",
       "        text-align: right;\n",
       "    }\n",
       "</style>\n",
       "<table border=\"1\" class=\"dataframe\">\n",
       "  <thead>\n",
       "    <tr style=\"text-align: right;\">\n",
       "      <th></th>\n",
       "      <th>Time</th>\n",
       "      <th>Value</th>\n",
       "    </tr>\n",
       "  </thead>\n",
       "  <tbody>\n",
       "    <tr>\n",
       "      <th>1</th>\n",
       "      <td>1</td>\n",
       "      <td>6</td>\n",
       "    </tr>\n",
       "    <tr>\n",
       "      <th>2</th>\n",
       "      <td>2</td>\n",
       "      <td>5</td>\n",
       "    </tr>\n",
       "    <tr>\n",
       "      <th>3</th>\n",
       "      <td>3</td>\n",
       "      <td>9</td>\n",
       "    </tr>\n",
       "    <tr>\n",
       "      <th>4</th>\n",
       "      <td>4</td>\n",
       "      <td>8</td>\n",
       "    </tr>\n",
       "    <tr>\n",
       "      <th>5</th>\n",
       "      <td>5</td>\n",
       "      <td>2</td>\n",
       "    </tr>\n",
       "    <tr>\n",
       "      <th>6</th>\n",
       "      <td>6</td>\n",
       "      <td>3</td>\n",
       "    </tr>\n",
       "    <tr>\n",
       "      <th>7</th>\n",
       "      <td>7</td>\n",
       "      <td>1</td>\n",
       "    </tr>\n",
       "    <tr>\n",
       "      <th>8</th>\n",
       "      <td>8</td>\n",
       "      <td>8</td>\n",
       "    </tr>\n",
       "    <tr>\n",
       "      <th>9</th>\n",
       "      <td>9</td>\n",
       "      <td>9</td>\n",
       "    </tr>\n",
       "  </tbody>\n",
       "</table>\n",
       "</div>"
      ],
      "text/plain": [
       "   Time  Value\n",
       "1     1      6\n",
       "2     2      5\n",
       "3     3      9\n",
       "4     4      8\n",
       "5     5      2\n",
       "6     6      3\n",
       "7     7      1\n",
       "8     8      8\n",
       "9     9      9"
      ]
     },
     "execution_count": 29,
     "metadata": {},
     "output_type": "execute_result"
    }
   ],
   "source": [
    "d1_add[1:10]"
   ]
  },
  {
   "cell_type": "code",
   "execution_count": 35,
   "id": "a8726477",
   "metadata": {},
   "outputs": [
    {
     "ename": "TypeError",
     "evalue": "'RangeIndex' object is not an iterator",
     "output_type": "error",
     "traceback": [
      "\u001b[0;31m---------------------------------------------------------------------------\u001b[0m",
      "\u001b[0;31mTypeError\u001b[0m                                 Traceback (most recent call last)",
      "Cell \u001b[0;32mIn[35], line 2\u001b[0m\n\u001b[1;32m      1\u001b[0m iterator \u001b[38;5;241m=\u001b[39m d1_add\u001b[38;5;241m.\u001b[39mindex\n\u001b[0;32m----> 2\u001b[0m d1_add[\u001b[38;5;28;43mnext\u001b[39;49m\u001b[43m(\u001b[49m\u001b[43miterator\u001b[49m\u001b[43m)\u001b[49m]\n",
      "\u001b[0;31mTypeError\u001b[0m: 'RangeIndex' object is not an iterator"
     ]
    }
   ],
   "source": [
    "iterator = d1_add.index\n",
    "d1_add[next(iterator)]"
   ]
  },
  {
   "cell_type": "code",
   "execution_count": 42,
   "id": "2ca766f1",
   "metadata": {},
   "outputs": [
    {
     "data": {
      "text/plain": [
       "9"
      ]
     },
     "execution_count": 42,
     "metadata": {},
     "output_type": "execute_result"
    }
   ],
   "source": [
    "d1_add['Value'][3]"
   ]
  },
  {
   "cell_type": "code",
   "execution_count": null,
   "id": "aaf553bb",
   "metadata": {},
   "outputs": [],
   "source": []
  }
 ],
 "metadata": {
  "kernelspec": {
   "display_name": "Python 3.10 (tensorflow)",
   "language": "python",
   "name": "tensorflow"
  },
  "language_info": {
   "codemirror_mode": {
    "name": "ipython",
    "version": 3
   },
   "file_extension": ".py",
   "mimetype": "text/x-python",
   "name": "python",
   "nbconvert_exporter": "python",
   "pygments_lexer": "ipython3",
   "version": "3.10.9"
  }
 },
 "nbformat": 4,
 "nbformat_minor": 5
}
